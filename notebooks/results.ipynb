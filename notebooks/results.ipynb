{
 "cells": [
  {
   "cell_type": "code",
   "id": "initial_id",
   "metadata": {
    "collapsed": true,
    "ExecuteTime": {
     "end_time": "2024-06-23T17:13:57.111995Z",
     "start_time": "2024-06-23T17:13:55.999694Z"
    }
   },
   "source": [
    "import ipywidgets as widgets\n",
    "import numpy as np\n",
    "import pandas as pd\n",
    "import plotly.graph_objects as go\n",
    "import plotly.io as pio\n",
    "import torch\n",
    "from IPython.display import display\n",
    "from plotly.subplots import make_subplots\n",
    "\n",
    "pio.renderers.default = \"jupyterlab+png\""
   ],
   "outputs": [],
   "execution_count": 1
  },
  {
   "metadata": {
    "ExecuteTime": {
     "end_time": "2024-06-23T17:13:57.125325Z",
     "start_time": "2024-06-23T17:13:57.112968Z"
    }
   },
   "cell_type": "code",
   "source": [
    "def plot_rsa(path, area, noise_corrected=False, show_legend=False):\n",
    "    data = torch.load(path)\n",
    "    rsa = data['rsa']\n",
    "    noise_ceiling = data['nc']\n",
    "    \n",
    "    data = []\n",
    "    for species, kt in rsa.items():\n",
    "        df_model = pd.DataFrame(kt)\n",
    "        df_med = df_model.median(axis=0)\n",
    "        df_err = df_model.std(axis=0)\n",
    "        df_model = pd.concat([df_med, df_err], axis=1)\n",
    "        df_model.columns = ['RSA', 'Error']\n",
    "        df_model['Layer'] = df_model.index\n",
    "        df_model['Model'] = species\n",
    "        df_model['Path'] = [layer[:2] if layer[:2] in ['p1', 'p2'] else '' for layer in df_model['Layer']]\n",
    "        df_model['Layer'] = [layer[3:] if layer[:2] in ['p1', 'p2'] else layer for layer in df_model['Layer']]\n",
    "        df_model.reset_index(drop=True, inplace=True)\n",
    "        data.append(df_model)\n",
    "\n",
    "    df = pd.concat(data)\n",
    "    df.loc[df['Layer'] == 'pixel', 'Model'] = 'Baseline'\n",
    "    df = df.drop_duplicates(keep='first')\n",
    "    df['Model_Path'] = df['Model'] + df['Path'].replace({'': '', 'p1': ' P1', 'p2': ' P2'})\n",
    "    if noise_ceiling is not None and noise_corrected:\n",
    "        df['RSA'] /= np.median(noise_ceiling)\n",
    "        \n",
    "    model_names = df['Model_Path'].unique()\n",
    "    complete_index = pd.MultiIndex.from_product([model_names, df['Layer']], names=['Model_Path', 'Layer'])\n",
    "    df.set_index(['Model_Path', 'Layer'], inplace=True)\n",
    "    df = df.reindex(complete_index).reset_index()\n",
    "    \n",
    "    # Dodge setup\n",
    "    layer_order = {layer: i for i, layer in enumerate(df['Layer'].unique())}\n",
    "    df['Layer_Index'] = df['Layer'].map(layer_order)\n",
    "    \n",
    "    dodge_amount = 0.4  # Adjust this value as needed for clarity\n",
    "    dp = np.linspace(-dodge_amount/2, dodge_amount/2, 4)\n",
    "    dodge_positions = [0, dp[0], dp[0], dp[1], dp[3], dp[2], dp[3]]\n",
    "    \n",
    "    # Create a Plotly figure\n",
    "    fig = go.Figure()\n",
    "    colors = ['black', 'darkblue', 'blue', 'deepskyblue', 'darkred', 'red', 'orange']\n",
    "    color_dict = {model: colors[i % len(colors)] for i, model in enumerate(model_names)}\n",
    "    \n",
    "    for i, model_path in enumerate(model_names):\n",
    "        filtered_df = df[df['Model_Path'] == model_path].copy()\n",
    "        filtered_df['DodgeX'] = filtered_df['Layer_Index'] + dodge_positions[i]\n",
    "        fig.add_trace(go.Scatter(\n",
    "            x=filtered_df['DodgeX'],\n",
    "            y=filtered_df['RSA'],\n",
    "            error_y=dict(type='data', array=filtered_df['Error'], visible=True),\n",
    "            mode='markers',\n",
    "            name=model_path,\n",
    "            marker=dict(color=color_dict[model_path]),\n",
    "            showlegend=show_legend,\n",
    "        ))\n",
    "\n",
    "    # Adding noise ceiling if applicable\n",
    "    if noise_ceiling is not None and not noise_corrected:\n",
    "        med = np.median(noise_ceiling)\n",
    "        sd = np.std(noise_ceiling)\n",
    "        fig.add_trace(go.Scatter(x=list(layer_order.values()), y=[med]*len(df['Layer'].unique()), mode='lines',\n",
    "                                 name='Noise Ceiling Median', line=dict(dash='dash', color='black'), showlegend=show_legend,))\n",
    "        fig.add_traces([\n",
    "            go.Scatter(x=list(layer_order.values()), y=[med+sd]*len(df['Layer'].unique()), fill='tonexty', mode='lines',\n",
    "                       line=dict(color='gray'), name='Noise Ceiling SD', showlegend=show_legend,),\n",
    "            go.Scatter(x=list(layer_order.values()), y=[med-sd]*len(df['Layer'].unique()), fill=None, mode='lines',\n",
    "                       line=dict(color='gray'), showlegend=False,),\n",
    "        ])\n",
    "\n",
    "    fig.update_layout(title=f'{area}',\n",
    "                      xaxis=dict(\n",
    "                          tickvals=list(layer_order.values()),\n",
    "                          ticktext=list(layer_order.keys())\n",
    "                      ))\n",
    "    return fig, layer_order"
   ],
   "id": "32f680b7d22c02af",
   "outputs": [],
   "execution_count": 2
  },
  {
   "metadata": {
    "jupyter": {
     "is_executing": true
    },
    "ExecuteTime": {
     "start_time": "2024-06-23T17:13:57.125949Z"
    }
   },
   "cell_type": "code",
   "source": [
    "# Assuming 'rsa' data is structured appropriately and your plot_rsa function is adapted to return dataframes or similar data structures.\n",
    "areas = ['VISl', 'VISp', 'VISpm', 'VISal', 'VISam']\n",
    "depths = [175, 275]\n",
    "stim_types = ['natural_movie_one', 'natural_scenes']\n",
    "noise_options = ['Noise Ceiling', 'Noise Corrected']\n",
    "cre_line = 'Cux2-CreERT2'\n",
    "seed = 42\n",
    "\n",
    "# Create widgets for depth and noise options\n",
    "depth_dropdown = widgets.Dropdown(options=depths, value=175, description='Depth:')\n",
    "stim_dropdown = widgets.Dropdown(options=stim_types, value='natural_movie_one', description='Stimulus:')\n",
    "noise_toggle = widgets.ToggleButtons(options=noise_options, description='Noise:')\n",
    "\n",
    "def update_plots(change):\n",
    "    # Create a subplot layout\n",
    "    fig = make_subplots(rows=2, cols=3, subplot_titles=areas + [''] * (6 - len(areas)), vertical_spacing=0.05)\n",
    "    \n",
    "    stim_type = stim_dropdown.value\n",
    "    depth = depth_dropdown.value\n",
    "    noise_corrected = noise_toggle.value == 'Noise Corrected'\n",
    "    \n",
    "    for i, area in enumerate(areas, start=1):\n",
    "        path = f'../results/{area}/{stim_type}/{depth}_{cre_line}_{seed}.pt'\n",
    "        subfig, layer_order = plot_rsa(path, area, noise_corrected=noise_corrected, show_legend=(i == 1))\n",
    "        traces = subfig.data if noise_corrected else reversed(subfig.data)\n",
    "        for trace in traces:\n",
    "            fig.add_trace(trace, row=(i-1)//3 + 1, col=(i-1)%3 + 1)\n",
    "            \n",
    "    fig.update_xaxes(ticklabelstep=1)\n",
    "    fig.update_xaxes(tickvals=list(layer_order.values()), ticktext=list(layer_order.keys()))\n",
    "    fig.update_xaxes(title_text=\"\", showticklabels=False, row=1, col=1)\n",
    "    fig.update_xaxes(title_text=\"\", showticklabels=False, row=1, col=2)\n",
    "    fig.update_xaxes(title_text=\"Layer\", showticklabels=True, row=1, col=3)\n",
    "    fig.update_xaxes(title_text=\"Layer\", showticklabels=True, row=2, col=1)\n",
    "    fig.update_xaxes(title_text=\"Layer\", showticklabels=True, row=2, col=2)\n",
    "    fig.update_yaxes(title_text='RDM similarity<br>(noise corrected)' if noise_corrected else 'RDM similarity', showticklabels=True, row=1, col=1)\n",
    "    fig.update_yaxes(title_text='RDM similarity<br>(noise corrected)' if noise_corrected else 'RDM similarity', showticklabels=True, row=2, col=1)\n",
    "    fig.update_layout(height=1200, width=1600, \n",
    "                      title_text=f'Representational Similarity Analysis between Mouse Visual Areas and ANNs trained with SSL<br>'\n",
    "                                 f'cre_line: {cre_line}, depth: {depth}, stimulus: {stim_type}', \n",
    "                      title_x=0.5,\n",
    "                      legend_title='Model')\n",
    "    with output:\n",
    "        output.clear_output(wait=True)\n",
    "        fig.show(\"notebook\")\n",
    "        \n",
    "# Observe changes in widgets and update the plots accordingly\n",
    "depth_dropdown.observe(update_plots, names='value')\n",
    "stim_dropdown.observe(update_plots, names='value')\n",
    "noise_toggle.observe(update_plots, names='value')\n",
    "\n",
    "# Set up a container for the widgets\n",
    "widgets_container = widgets.VBox([depth_dropdown, stim_dropdown, noise_toggle])\n",
    "\n",
    "# Layout to display widgets and plot output\n",
    "output = widgets.Output()\n",
    "display(widgets_container, output)\n",
    "\n",
    "# Initialize the plots with default values\n",
    "update_plots(None)"
   ],
   "id": "23789992bf91685c",
   "outputs": [
    {
     "data": {
      "text/plain": [
       "VBox(children=(Dropdown(description='Depth:', options=(175, 275), value=175), Dropdown(description='Stimulus:'…"
      ],
      "application/vnd.jupyter.widget-view+json": {
       "version_major": 2,
       "version_minor": 0,
       "model_id": "8349a8352af34df3957b6a385e10df2f"
      }
     },
     "metadata": {},
     "output_type": "display_data"
    },
    {
     "data": {
      "text/plain": [
       "Output()"
      ],
      "application/vnd.jupyter.widget-view+json": {
       "version_major": 2,
       "version_minor": 0,
       "model_id": "8ba3887fdf5e45bd824c9a2db0b75c60"
      }
     },
     "metadata": {},
     "output_type": "display_data"
    }
   ],
   "execution_count": null
  },
  {
   "metadata": {},
   "cell_type": "code",
   "source": "",
   "id": "56824215e299d4ce",
   "outputs": [],
   "execution_count": 3
  }
 ],
 "metadata": {
  "kernelspec": {
   "display_name": "Python 3",
   "language": "python",
   "name": "python3"
  },
  "language_info": {
   "codemirror_mode": {
    "name": "ipython",
    "version": 2
   },
   "file_extension": ".py",
   "mimetype": "text/x-python",
   "name": "python",
   "nbconvert_exporter": "python",
   "pygments_lexer": "ipython2",
   "version": "2.7.6"
  }
 },
 "nbformat": 4,
 "nbformat_minor": 5
}
